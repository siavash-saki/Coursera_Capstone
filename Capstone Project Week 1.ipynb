{
 "cells": [
  {
   "cell_type": "markdown",
   "metadata": {},
   "source": [
    "# Capstone Project - The Battle of Neighborhoods (Week 1)"
   ]
  },
  {
   "cell_type": "markdown",
   "metadata": {},
   "source": [
    "## Find the Best Airbnb Rental Property to Buy in Berlin"
   ]
  },
  {
   "cell_type": "markdown",
   "metadata": {},
   "source": [
    "### 1. A description of the problem and a discussion of the background"
   ]
  },
  {
   "cell_type": "markdown",
   "metadata": {},
   "source": [
    "For a long time, my girlfriend and I have been discussing to invest in real estate. One idea we came up with is to buy an apartement and rent it out on Airbnb. \n",
    "\n",
    "Airbnb is an online marketplace which lets people rent out their properties or spare rooms to guests. [Reference](https://home.bt.com/lifestyle/travel/travel-advice/what-is-airbnb-11363981595930) Airbnb has successfully disrupted the traditional hospitality industry as more and more travelers decide to use Airbnb as their primary accommodation provider. Since its inception in 2008, Airbnb has seen an enormous growth, with the number of rentals listed on its website growing exponentially each year.\n",
    "\n",
    "In Germany, no city is more popular than our home town, **Berlin**. That implies that Berlin is one of the hottest markets for Airbnb in Europe, with over 24,000 listings as of November 2019. With a size of 891 km², this means there are roughly 27 homes being rented out per km² in Berlin on Airbnb!\n",
    "[Refrence](https://www.kaggle.com/brittabettendorf/what-factors-influence-demand-eda-occupancy)\n",
    "So it seems like a promising idea to make this investment, but we cannot just take it for granted. We have to do some financial analysis and find out if this investment is right for us. After proving this point, the most important question will follow: which apartement should we buy? There are thousands of apartements in Berlin."
   ]
  },
  {
   "cell_type": "markdown",
   "metadata": {},
   "source": [
    "The key to the success of any real estate investment business is finding the right property in a top location. The same holds true for investing in an Airbnb rental property. No matter how great of a property manager and an Airbnb host we are, we cannot do well and make a lot of money unless we buy a profitable property first. [Reference](https://www.igms.com/airbnb-property-to-buy/)"
   ]
  },
  {
   "cell_type": "markdown",
   "metadata": {},
   "source": [
    "The following question will drive this project:\n",
    "\n",
    "> **Is an Airbnb Investment Right for me? if yes, how can I find the best Airbnb rental property in berlin to buy and which property should I buy?**"
   ]
  },
  {
   "cell_type": "markdown",
   "metadata": {},
   "source": [
    "### 2. A description of the data and how it will be used to solve the problem"
   ]
  },
  {
   "cell_type": "markdown",
   "metadata": {},
   "source": [
    "The initial data we need in order to answer this question are: **Berlin Airbnb listings dataset** and **available apartements in Berlin to buy dataset**. Using these datasets, we build a regression model to predict Berlin Airbnb rental prices. Then we apply this model on buying aprtements to predict their approximate rental price. Finally we do some financial analysis to see which apartement has a shorter **Payback Period** and make us more money.\n",
    "\n",
    "Using Longitude and Latitude in Airbnb Dataset, we can extract usefull geolocation data from Foursquare Database. In this project, **Foursquare Dataset** is used to refine our price prediction model for airbnb rental price.\n"
   ]
  },
  {
   "cell_type": "markdown",
   "metadata": {},
   "source": [
    "**Note:** \n",
    "\n",
    "* **Berlin Airbnb listings dataset** is downloaded from [insideairbnb.com](http://insideairbnb.com/get-the-data.html)\n",
    "* **Available apartements in Berlin to buy dataset** is scraped from [ImmoScout24.de](https://www.immobilienscout24.de/).\n",
    "* **Foursquare Dataset** is downloaded using Foursquare Rest API. [Foursquare](https://developer.foursquare.com/)\n",
    "\n"
   ]
  },
  {
   "cell_type": "code",
   "execution_count": null,
   "metadata": {},
   "outputs": [],
   "source": []
  }
 ],
 "metadata": {
  "kernelspec": {
   "display_name": "Python 3",
   "language": "python",
   "name": "python3"
  },
  "language_info": {
   "codemirror_mode": {
    "name": "ipython",
    "version": 3
   },
   "file_extension": ".py",
   "mimetype": "text/x-python",
   "name": "python",
   "nbconvert_exporter": "python",
   "pygments_lexer": "ipython3",
   "version": "3.7.3"
  }
 },
 "nbformat": 4,
 "nbformat_minor": 2
}
